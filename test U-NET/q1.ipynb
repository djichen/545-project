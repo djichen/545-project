{
 "cells": [
  {
   "cell_type": "code",
   "execution_count": 1,
   "metadata": {},
   "outputs": [
    {
     "name": "stdout",
     "output_type": "stream",
     "text": [
      "The class label of the first example: [5]\n"
     ]
    },
    {
     "data": {
      "text/plain": [
       "<matplotlib.image.AxesImage at 0x7fc103ccd518>"
      ]
     },
     "execution_count": 1,
     "metadata": {},
     "output_type": "execute_result"
    },
    {
     "data": {
      "image/png": "[encoded data removed]",
      "text/plain": [
       "<Figure size 432x288 with 1 Axes>"
      ]
     },
     "metadata": {
      "needs_background": "light"
     },
     "output_type": "display_data"
    },
    {
     "data": {
      "image/png": "[encoded data removed]",
      "text/plain": [
       "<Figure size 432x288 with 3 Axes>"
      ]
     },
     "metadata": {
      "needs_background": "light"
     },
     "output_type": "display_data"
    }
   ],
   "source": [
    "import numpy as np\n",
    "import matplotlib.pyplot as plt\n",
    "%matplotlib inline\n",
    "\n",
    "# Load data\n",
    "q1_digits = np.load('q1_data/q1_digits.npz')\n",
    "digits_train = q1_digits['digits_train']\n",
    "labels_train = q1_digits['labels_train']\n",
    "\n",
    "# Display an image of a digit\n",
    "plt.figure()\n",
    "plt.imshow(digits_train[0,:,:]) # first example in the training dataset\n",
    "#plt.savefig('digit.png')\n",
    "\n",
    "# Print the class of the first example\n",
    "print('The class label of the first example:', labels_train[0])\n",
    "\n",
    "# Plot multiple images (1 by 3)\n",
    "fig, ax = plt.subplots(nrows=1, ncols=3)\n",
    "ax[0].imshow(digits_train[0,:,:])\n",
    "ax[1].imshow(digits_train[1,:,:])\n",
    "ax[2].imshow(digits_train[2,:,:])\n",
    "#plt.savefig('many_digit.png')"
   ]
  },
  {
   "cell_type": "code",
   "execution_count": 2,
   "metadata": {},
   "outputs": [],
   "source": [
    "digits_test = q1_digits['digits_test']\n",
    "labels_test = q1_digits['labels_test']"
   ]
  },
  {
   "cell_type": "markdown",
   "metadata": {},
   "source": [
    "## Distance"
   ]
  },
  {
   "cell_type": "code",
   "execution_count": 3,
   "metadata": {},
   "outputs": [],
   "source": [
    "def distance(x_1,x_2):\n",
    "    return np.sqrt(np.sum((x_1 - x_2)**2))"
   ]
  },
  {
   "cell_type": "markdown",
   "metadata": {},
   "source": [
    "## 1."
   ]
  },
  {
   "cell_type": "code",
   "execution_count": 4,
   "metadata": {},
   "outputs": [],
   "source": [
    "def Knn(k,X,xtest):\n",
    "    x_list = {}\n",
    "    for i in range(1000):\n",
    "        xtrain = X[i]\n",
    "        d = distance(X[i],xtest)\n",
    "        x_list[i] = d\n",
    "    x_result = sorted(x_list,key = x_list.get)[0:k]\n",
    "    return x_result"
   ]
  },
  {
   "cell_type": "code",
   "execution_count": 5,
   "metadata": {},
   "outputs": [],
   "source": [
    "def knn_result(indice_list,labels_train):\n",
    "    sort_list = {}\n",
    "    for t in indice_list:\n",
    "        label = labels_train[t][0]\n",
    "        if label not in sort_list:\n",
    "            sort_list[label] = 1\n",
    "        else:\n",
    "            sort_list[label] += 1\n",
    "    result = sorted(sort_list,key = sort_list.get)[-1]\n",
    "    return result"
   ]
  },
  {
   "cell_type": "code",
   "execution_count": 6,
   "metadata": {},
   "outputs": [
    {
     "name": "stdout",
     "output_type": "stream",
     "text": [
      "Test digit 0 with class label: [0]\n",
      "Indice: 952\n",
      "Class lable: [0]\n",
      "Indice: 690\n",
      "Class lable: [5]\n",
      "Indice: 320\n",
      "Class lable: [0]\n",
      "Indice: 210\n",
      "Class lable: [0]\n",
      "Indice: 192\n",
      "Class lable: [0]\n",
      "Indice: 836\n",
      "Class lable: [5]\n",
      "Indice: 81\n",
      "Class lable: [0]\n",
      "Indice: 542\n",
      "Class lable: [0]\n",
      "[952, 690, 320, 210, 192, 836, 81, 542]\n",
      "[0, 5, 0, 0, 0, 5, 0, 0]\n",
      "result of classify is 0\n",
      "=========================================================\n",
      "Test digit 1 with class label: [7]\n",
      "Indice: 723\n",
      "Class lable: [7]\n",
      "Indice: 753\n",
      "Class lable: [7]\n",
      "Indice: 71\n",
      "Class lable: [7]\n",
      "Indice: 15\n",
      "Class lable: [7]\n",
      "Indice: 911\n",
      "Class lable: [7]\n",
      "Indice: 981\n",
      "Class lable: [7]\n",
      "Indice: 193\n",
      "Class lable: [7]\n",
      "Indice: 79\n",
      "Class lable: [7]\n",
      "[723, 753, 71, 15, 911, 981, 193, 79]\n",
      "[7, 7, 7, 7, 7, 7, 7, 7]\n",
      "result of classify is 7\n",
      "=========================================================\n",
      "Test digit 2 with class label: [1]\n",
      "Indice: 484\n",
      "Class lable: [1]\n",
      "Indice: 398\n",
      "Class lable: [1]\n",
      "Indice: 454\n",
      "Class lable: [1]\n",
      "Indice: 638\n",
      "Class lable: [1]\n",
      "Indice: 8\n",
      "Class lable: [1]\n",
      "Indice: 678\n",
      "Class lable: [1]\n",
      "Indice: 112\n",
      "Class lable: [1]\n",
      "Indice: 310\n",
      "Class lable: [1]\n",
      "[484, 398, 454, 638, 8, 678, 112, 310]\n",
      "[1, 1, 1, 1, 1, 1, 1, 1]\n",
      "result of classify is 1\n",
      "=========================================================\n",
      "Test digit 3 with class label: [1]\n",
      "Indice: 587\n",
      "Class lable: [1]\n",
      "Indice: 951\n",
      "Class lable: [1]\n",
      "Indice: 593\n",
      "Class lable: [1]\n",
      "Indice: 961\n",
      "Class lable: [1]\n",
      "Indice: 475\n",
      "Class lable: [1]\n",
      "Indice: 637\n",
      "Class lable: [1]\n",
      "Indice: 993\n",
      "Class lable: [1]\n",
      "Indice: 919\n",
      "Class lable: [1]\n",
      "[587, 951, 593, 961, 475, 637, 993, 919]\n",
      "[1, 1, 1, 1, 1, 1, 1, 1]\n",
      "result of classify is 1\n",
      "=========================================================\n",
      "Test digit 4 with class label: [4]\n",
      "Indice: 576\n",
      "Class lable: [4]\n",
      "Indice: 604\n",
      "Class lable: [1]\n",
      "Indice: 304\n",
      "Class lable: [9]\n",
      "Indice: 26\n",
      "Class lable: [4]\n",
      "Indice: 718\n",
      "Class lable: [4]\n",
      "Indice: 900\n",
      "Class lable: [9]\n",
      "Indice: 412\n",
      "Class lable: [4]\n",
      "Indice: 354\n",
      "Class lable: [4]\n",
      "[576, 604, 304, 26, 718, 900, 412, 354]\n",
      "[4, 1, 9, 4, 4, 9, 4, 4]\n",
      "result of classify is 4\n",
      "=========================================================\n"
     ]
    }
   ],
   "source": [
    "for m in range(5):\n",
    "    print(\"Test digit {} with class label: {}\".format(m, labels_test[m]))\n",
    "    x_induce = Knn(8,digits_train,digits_test[m])\n",
    "    label = []\n",
    "    for i in x_induce:\n",
    "        print(\"Indice: {}\".format(i))\n",
    "        print(\"Class lable: {}\".format(labels_train[i]))\n",
    "        label.append(labels_train[i][0])\n",
    "    res = knn_result(x_induce,labels_train)\n",
    "    print(x_induce)\n",
    "    print(label)\n",
    "    print(\"result of classify is {}\".format(res))\n",
    "    print(\"=========================================================\")"
   ]
  },
  {
   "cell_type": "markdown",
   "metadata": {},
   "source": [
    "## 2."
   ]
  },
  {
   "cell_type": "code",
   "execution_count": 8,
   "metadata": {},
   "outputs": [
    {
     "name": "stdout",
     "output_type": "stream",
     "text": [
      "Accuracy: 0.85\n"
     ]
    }
   ],
   "source": [
    "right = 0\n",
    "wrong = 0\n",
    "for i in range(1000):\n",
    "    result = knn_result(Knn(10,digits_train,digits_test[i]), labels_train)\n",
    "    if result == labels_test[i][0]:\n",
    "        right += 1\n",
    "    else:\n",
    "#         print(\"Induce of test is {}, true label is {}, result is {}\".format(i,))\n",
    "        wrong += 1\n",
    "print(\"Accuracy: {}\".format(right/(right + wrong)))"
   ]
  },
  {
   "cell_type": "markdown",
   "metadata": {},
   "source": [
    "### 3."
   ]
  },
  {
   "cell_type": "code",
   "execution_count": 11,
   "metadata": {},
   "outputs": [
    {
     "name": "stdout",
     "output_type": "stream",
     "text": [
      "Accuracy: 0.883\n",
      "Accuracy: 0.857\n",
      "Accuracy: 0.85\n",
      "Accuracy: 0.818\n",
      "Accuracy: 0.781\n",
      "Accuracy: 0.773\n",
      "Accuracy: 0.75\n"
     ]
    }
   ],
   "source": [
    "acc = []\n",
    "klist = [1,5,10,20,30,40,50]\n",
    "for k in klist:\n",
    "    right = 0\n",
    "    wrong = 0\n",
    "    for i in range(1000):\n",
    "        result = knn_result(Knn(k,digits_train,digits_test[i]), labels_train)\n",
    "        if result == labels_test[i][0]:\n",
    "            right += 1\n",
    "        else:\n",
    "#         print(\"Induce of test is {}, true label is {}, result is {}\".format(i,))\n",
    "            wrong += 1\n",
    "    print(\"Accuracy: {}\".format(right/(right + wrong)))\n",
    "    acc.append(right/(right + wrong))"
   ]
  },
  {
   "cell_type": "code",
   "execution_count": 12,
   "metadata": {
    "scrolled": true
   },
   "outputs": [
    {
     "data": {
      "text/plain": [
       "[<matplotlib.lines.Line2D at 0x7fc1037fd978>]"
      ]
     },
     "execution_count": 12,
     "metadata": {},
     "output_type": "execute_result"
    },
    {
     "data": {
      "image/png": "[encoded data removed]",
      "text/plain": [
       "<Figure size 432x288 with 1 Axes>"
      ]
     },
     "metadata": {
      "needs_background": "light"
     },
     "output_type": "display_data"
    }
   ],
   "source": [
    "plt.plot(klist, acc)"
   ]
  },
  {
   "cell_type": "markdown",
   "metadata": {},
   "source": [
    "### 4."
   ]
  },
  {
   "cell_type": "code",
   "execution_count": 13,
   "metadata": {},
   "outputs": [],
   "source": [
    "def distance(x_1,x_2):\n",
    "    return 1 - np.sum(x_1*x_2)/(np.sqrt(np.sum((x_1)**2)) * np.sqrt(np.sum((x_2)**2)))"
   ]
  },
  {
   "cell_type": "code",
   "execution_count": 14,
   "metadata": {},
   "outputs": [
    {
     "name": "stdout",
     "output_type": "stream",
     "text": [
      "Accuracy: 0.87\n"
     ]
    }
   ],
   "source": [
    "right = 0\n",
    "wrong = 0\n",
    "for i in range(1000):\n",
    "    result = knn_result(Knn(10,digits_train,digits_test[i]), labels_train)\n",
    "    if result == labels_test[i][0]:\n",
    "        right += 1\n",
    "    else:\n",
    "        wrong += 1\n",
    "print(\"Accuracy: {}\".format(right/(right + wrong)))"
   ]
  },
  {
   "cell_type": "code",
   "execution_count": null,
   "metadata": {},
   "outputs": [],
   "source": []
  }
 ],
 "metadata": {
  "kernelspec": {
   "display_name": "Python 3",
   "language": "python",
   "name": "python3"
  },
  "language_info": {
   "codemirror_mode": {
    "name": "ipython",
    "version": 3
   },
   "file_extension": ".py",
   "mimetype": "text/x-python",
   "name": "python",
   "nbconvert_exporter": "python",
   "pygments_lexer": "ipython3",
   "version": "3.7.3"
  }
 },
 "nbformat": 4,
 "nbformat_minor": 2
}
